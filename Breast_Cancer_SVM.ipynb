{
 "cells": [
  {
   "cell_type": "markdown",
   "metadata": {},
   "source": [
    "# EXERCISE 4"
   ]
  },
  {
   "cell_type": "markdown",
   "metadata": {},
   "source": [
    "## SUPPORT VECTOR MACHINE (SVM)"
   ]
  },
  {
   "cell_type": "markdown",
   "metadata": {},
   "source": [
    "## Business Problem Description"
   ]
  },
  {
   "cell_type": "markdown",
   "metadata": {},
   "source": [
    "<p> Breast cancer is a disease in which breast cells grow out of control. There are different types of breast cancer. The type of breast cancer depends on which breast cells become cancerous. Breast cancer is the second most common cancer among women in the United States. Black women die from this disease at a higher rate than white women. The following algorithm will help us to determine based on 569 cancer biopsies whether the diagnosis is marked as \"malignant\" or \"benign\" by taking into account several attributes. </p>"
   ]
  },
  {
   "cell_type": "code",
   "execution_count": 1,
   "metadata": {},
   "outputs": [],
   "source": [
    "# Importing all the necessary libraries/modules\n",
    "\n",
    "import pandas as pd\n",
    "import numpy as np\n",
    "import sweetviz as sv\n",
    "import seaborn as sns\n",
    "import matplotlib.pyplot as plt\n",
    "import plotly.graph_objs as go\n",
    "\n",
    "from sklearn.svm import SVC\n",
    "from sklearn.decomposition import PCA\n",
    "from sklearn.preprocessing import LabelEncoder\n",
    "from sklearn.model_selection import train_test_split\n",
    "from sklearn.metrics import accuracy_score"
   ]
  },
  {
   "cell_type": "code",
   "execution_count": 2,
   "metadata": {},
   "outputs": [],
   "source": [
    "# Importing the dataset containing the information\n",
    "cancer_biopsies = pd.read_csv(\"dataset.csv\")"
   ]
  },
  {
   "cell_type": "markdown",
   "metadata": {},
   "source": [
    "## Exploratory Data Analysis"
   ]
  },
  {
   "cell_type": "code",
   "execution_count": 3,
   "metadata": {},
   "outputs": [
    {
     "name": "stdout",
     "output_type": "stream",
     "text": [
      "<class 'pandas.core.frame.DataFrame'>\n",
      "RangeIndex: 569 entries, 0 to 568\n",
      "Data columns (total 32 columns):\n",
      " #   Column             Non-Null Count  Dtype  \n",
      "---  ------             --------------  -----  \n",
      " 0   id                 569 non-null    int64  \n",
      " 1   diagnosis          569 non-null    object \n",
      " 2   radius_mean        569 non-null    float64\n",
      " 3   texture_mean       569 non-null    float64\n",
      " 4   perimeter_mean     569 non-null    float64\n",
      " 5   area_mean          569 non-null    float64\n",
      " 6   smoothness_mean    569 non-null    float64\n",
      " 7   compactness_mean   569 non-null    float64\n",
      " 8   concavity_mean     569 non-null    float64\n",
      " 9   points_mean        569 non-null    float64\n",
      " 10  symmetry_mean      569 non-null    float64\n",
      " 11  dimension_mean     569 non-null    float64\n",
      " 12  radius_se          569 non-null    float64\n",
      " 13  texture_se         569 non-null    float64\n",
      " 14  perimeter_se       569 non-null    float64\n",
      " 15  area_se            569 non-null    float64\n",
      " 16  smoothness_se      569 non-null    float64\n",
      " 17  compactness_se     569 non-null    float64\n",
      " 18  concavity_se       569 non-null    float64\n",
      " 19  points_se          569 non-null    float64\n",
      " 20  symmetry_se        569 non-null    float64\n",
      " 21  dimension_se       569 non-null    float64\n",
      " 22  radius_worst       569 non-null    float64\n",
      " 23  texture_worst      569 non-null    float64\n",
      " 24  perimeter_worst    569 non-null    float64\n",
      " 25  area_worst         569 non-null    float64\n",
      " 26  smoothness_worst   569 non-null    float64\n",
      " 27  compactness_worst  569 non-null    float64\n",
      " 28  concavity_worst    569 non-null    float64\n",
      " 29  points_worst       569 non-null    float64\n",
      " 30  symmetry_worst     569 non-null    float64\n",
      " 31  dimension_worst    569 non-null    float64\n",
      "dtypes: float64(30), int64(1), object(1)\n",
      "memory usage: 142.4+ KB\n"
     ]
    }
   ],
   "source": [
    "# Displaying the information contained in the dataset\n",
    "\n",
    "cancer_biopsies.info()"
   ]
  },
  {
   "cell_type": "code",
   "execution_count": 4,
   "metadata": {},
   "outputs": [
    {
     "data": {
      "text/html": [
       "<div>\n",
       "<style scoped>\n",
       "    .dataframe tbody tr th:only-of-type {\n",
       "        vertical-align: middle;\n",
       "    }\n",
       "\n",
       "    .dataframe tbody tr th {\n",
       "        vertical-align: top;\n",
       "    }\n",
       "\n",
       "    .dataframe thead th {\n",
       "        text-align: right;\n",
       "    }\n",
       "</style>\n",
       "<table border=\"1\" class=\"dataframe\">\n",
       "  <thead>\n",
       "    <tr style=\"text-align: right;\">\n",
       "      <th></th>\n",
       "      <th>id</th>\n",
       "      <th>diagnosis</th>\n",
       "      <th>radius_mean</th>\n",
       "      <th>texture_mean</th>\n",
       "      <th>perimeter_mean</th>\n",
       "      <th>area_mean</th>\n",
       "      <th>smoothness_mean</th>\n",
       "      <th>compactness_mean</th>\n",
       "      <th>concavity_mean</th>\n",
       "      <th>points_mean</th>\n",
       "      <th>...</th>\n",
       "      <th>radius_worst</th>\n",
       "      <th>texture_worst</th>\n",
       "      <th>perimeter_worst</th>\n",
       "      <th>area_worst</th>\n",
       "      <th>smoothness_worst</th>\n",
       "      <th>compactness_worst</th>\n",
       "      <th>concavity_worst</th>\n",
       "      <th>points_worst</th>\n",
       "      <th>symmetry_worst</th>\n",
       "      <th>dimension_worst</th>\n",
       "    </tr>\n",
       "  </thead>\n",
       "  <tbody>\n",
       "    <tr>\n",
       "      <th>0</th>\n",
       "      <td>87139402</td>\n",
       "      <td>B</td>\n",
       "      <td>12.32</td>\n",
       "      <td>12.39</td>\n",
       "      <td>78.85</td>\n",
       "      <td>464.1</td>\n",
       "      <td>0.10280</td>\n",
       "      <td>0.06981</td>\n",
       "      <td>0.03987</td>\n",
       "      <td>0.03700</td>\n",
       "      <td>...</td>\n",
       "      <td>13.50</td>\n",
       "      <td>15.64</td>\n",
       "      <td>86.97</td>\n",
       "      <td>549.1</td>\n",
       "      <td>0.1385</td>\n",
       "      <td>0.1266</td>\n",
       "      <td>0.12420</td>\n",
       "      <td>0.09391</td>\n",
       "      <td>0.2827</td>\n",
       "      <td>0.06771</td>\n",
       "    </tr>\n",
       "    <tr>\n",
       "      <th>1</th>\n",
       "      <td>8910251</td>\n",
       "      <td>B</td>\n",
       "      <td>10.60</td>\n",
       "      <td>18.95</td>\n",
       "      <td>69.28</td>\n",
       "      <td>346.4</td>\n",
       "      <td>0.09688</td>\n",
       "      <td>0.11470</td>\n",
       "      <td>0.06387</td>\n",
       "      <td>0.02642</td>\n",
       "      <td>...</td>\n",
       "      <td>11.88</td>\n",
       "      <td>22.94</td>\n",
       "      <td>78.28</td>\n",
       "      <td>424.8</td>\n",
       "      <td>0.1213</td>\n",
       "      <td>0.2515</td>\n",
       "      <td>0.19160</td>\n",
       "      <td>0.07926</td>\n",
       "      <td>0.2940</td>\n",
       "      <td>0.07587</td>\n",
       "    </tr>\n",
       "    <tr>\n",
       "      <th>2</th>\n",
       "      <td>905520</td>\n",
       "      <td>B</td>\n",
       "      <td>11.04</td>\n",
       "      <td>16.83</td>\n",
       "      <td>70.92</td>\n",
       "      <td>373.2</td>\n",
       "      <td>0.10770</td>\n",
       "      <td>0.07804</td>\n",
       "      <td>0.03046</td>\n",
       "      <td>0.02480</td>\n",
       "      <td>...</td>\n",
       "      <td>12.41</td>\n",
       "      <td>26.44</td>\n",
       "      <td>79.93</td>\n",
       "      <td>471.4</td>\n",
       "      <td>0.1369</td>\n",
       "      <td>0.1482</td>\n",
       "      <td>0.10670</td>\n",
       "      <td>0.07431</td>\n",
       "      <td>0.2998</td>\n",
       "      <td>0.07881</td>\n",
       "    </tr>\n",
       "    <tr>\n",
       "      <th>3</th>\n",
       "      <td>868871</td>\n",
       "      <td>B</td>\n",
       "      <td>11.28</td>\n",
       "      <td>13.39</td>\n",
       "      <td>73.00</td>\n",
       "      <td>384.8</td>\n",
       "      <td>0.11640</td>\n",
       "      <td>0.11360</td>\n",
       "      <td>0.04635</td>\n",
       "      <td>0.04796</td>\n",
       "      <td>...</td>\n",
       "      <td>11.92</td>\n",
       "      <td>15.77</td>\n",
       "      <td>76.53</td>\n",
       "      <td>434.0</td>\n",
       "      <td>0.1367</td>\n",
       "      <td>0.1822</td>\n",
       "      <td>0.08669</td>\n",
       "      <td>0.08611</td>\n",
       "      <td>0.2102</td>\n",
       "      <td>0.06784</td>\n",
       "    </tr>\n",
       "    <tr>\n",
       "      <th>4</th>\n",
       "      <td>9012568</td>\n",
       "      <td>B</td>\n",
       "      <td>15.19</td>\n",
       "      <td>13.21</td>\n",
       "      <td>97.65</td>\n",
       "      <td>711.8</td>\n",
       "      <td>0.07963</td>\n",
       "      <td>0.06934</td>\n",
       "      <td>0.03393</td>\n",
       "      <td>0.02657</td>\n",
       "      <td>...</td>\n",
       "      <td>16.20</td>\n",
       "      <td>15.73</td>\n",
       "      <td>104.50</td>\n",
       "      <td>819.1</td>\n",
       "      <td>0.1126</td>\n",
       "      <td>0.1737</td>\n",
       "      <td>0.13620</td>\n",
       "      <td>0.08178</td>\n",
       "      <td>0.2487</td>\n",
       "      <td>0.06766</td>\n",
       "    </tr>\n",
       "    <tr>\n",
       "      <th>...</th>\n",
       "      <td>...</td>\n",
       "      <td>...</td>\n",
       "      <td>...</td>\n",
       "      <td>...</td>\n",
       "      <td>...</td>\n",
       "      <td>...</td>\n",
       "      <td>...</td>\n",
       "      <td>...</td>\n",
       "      <td>...</td>\n",
       "      <td>...</td>\n",
       "      <td>...</td>\n",
       "      <td>...</td>\n",
       "      <td>...</td>\n",
       "      <td>...</td>\n",
       "      <td>...</td>\n",
       "      <td>...</td>\n",
       "      <td>...</td>\n",
       "      <td>...</td>\n",
       "      <td>...</td>\n",
       "      <td>...</td>\n",
       "      <td>...</td>\n",
       "    </tr>\n",
       "    <tr>\n",
       "      <th>564</th>\n",
       "      <td>911320502</td>\n",
       "      <td>B</td>\n",
       "      <td>13.17</td>\n",
       "      <td>18.22</td>\n",
       "      <td>84.28</td>\n",
       "      <td>537.3</td>\n",
       "      <td>0.07466</td>\n",
       "      <td>0.05994</td>\n",
       "      <td>0.04859</td>\n",
       "      <td>0.02870</td>\n",
       "      <td>...</td>\n",
       "      <td>14.90</td>\n",
       "      <td>23.89</td>\n",
       "      <td>95.10</td>\n",
       "      <td>687.6</td>\n",
       "      <td>0.1282</td>\n",
       "      <td>0.1965</td>\n",
       "      <td>0.18760</td>\n",
       "      <td>0.10450</td>\n",
       "      <td>0.2235</td>\n",
       "      <td>0.06925</td>\n",
       "    </tr>\n",
       "    <tr>\n",
       "      <th>565</th>\n",
       "      <td>898677</td>\n",
       "      <td>B</td>\n",
       "      <td>10.26</td>\n",
       "      <td>14.71</td>\n",
       "      <td>66.20</td>\n",
       "      <td>321.6</td>\n",
       "      <td>0.09882</td>\n",
       "      <td>0.09159</td>\n",
       "      <td>0.03581</td>\n",
       "      <td>0.02037</td>\n",
       "      <td>...</td>\n",
       "      <td>10.88</td>\n",
       "      <td>19.48</td>\n",
       "      <td>70.89</td>\n",
       "      <td>357.1</td>\n",
       "      <td>0.1360</td>\n",
       "      <td>0.1636</td>\n",
       "      <td>0.07162</td>\n",
       "      <td>0.04074</td>\n",
       "      <td>0.2434</td>\n",
       "      <td>0.08488</td>\n",
       "    </tr>\n",
       "    <tr>\n",
       "      <th>566</th>\n",
       "      <td>873885</td>\n",
       "      <td>M</td>\n",
       "      <td>15.28</td>\n",
       "      <td>22.41</td>\n",
       "      <td>98.92</td>\n",
       "      <td>710.6</td>\n",
       "      <td>0.09057</td>\n",
       "      <td>0.10520</td>\n",
       "      <td>0.05375</td>\n",
       "      <td>0.03263</td>\n",
       "      <td>...</td>\n",
       "      <td>17.80</td>\n",
       "      <td>28.03</td>\n",
       "      <td>113.80</td>\n",
       "      <td>973.1</td>\n",
       "      <td>0.1301</td>\n",
       "      <td>0.3299</td>\n",
       "      <td>0.36300</td>\n",
       "      <td>0.12260</td>\n",
       "      <td>0.3175</td>\n",
       "      <td>0.09772</td>\n",
       "    </tr>\n",
       "    <tr>\n",
       "      <th>567</th>\n",
       "      <td>911201</td>\n",
       "      <td>B</td>\n",
       "      <td>14.53</td>\n",
       "      <td>13.98</td>\n",
       "      <td>93.86</td>\n",
       "      <td>644.2</td>\n",
       "      <td>0.10990</td>\n",
       "      <td>0.09242</td>\n",
       "      <td>0.06895</td>\n",
       "      <td>0.06495</td>\n",
       "      <td>...</td>\n",
       "      <td>15.80</td>\n",
       "      <td>16.93</td>\n",
       "      <td>103.10</td>\n",
       "      <td>749.9</td>\n",
       "      <td>0.1347</td>\n",
       "      <td>0.1478</td>\n",
       "      <td>0.13730</td>\n",
       "      <td>0.10690</td>\n",
       "      <td>0.2606</td>\n",
       "      <td>0.07810</td>\n",
       "    </tr>\n",
       "    <tr>\n",
       "      <th>568</th>\n",
       "      <td>9012795</td>\n",
       "      <td>M</td>\n",
       "      <td>21.37</td>\n",
       "      <td>15.10</td>\n",
       "      <td>141.30</td>\n",
       "      <td>1386.0</td>\n",
       "      <td>0.10010</td>\n",
       "      <td>0.15150</td>\n",
       "      <td>0.19320</td>\n",
       "      <td>0.12550</td>\n",
       "      <td>...</td>\n",
       "      <td>22.69</td>\n",
       "      <td>21.84</td>\n",
       "      <td>152.10</td>\n",
       "      <td>1535.0</td>\n",
       "      <td>0.1192</td>\n",
       "      <td>0.2840</td>\n",
       "      <td>0.40240</td>\n",
       "      <td>0.19660</td>\n",
       "      <td>0.2730</td>\n",
       "      <td>0.08666</td>\n",
       "    </tr>\n",
       "  </tbody>\n",
       "</table>\n",
       "<p>569 rows × 32 columns</p>\n",
       "</div>"
      ],
      "text/plain": [
       "            id diagnosis  radius_mean  texture_mean  perimeter_mean  \\\n",
       "0     87139402         B        12.32         12.39           78.85   \n",
       "1      8910251         B        10.60         18.95           69.28   \n",
       "2       905520         B        11.04         16.83           70.92   \n",
       "3       868871         B        11.28         13.39           73.00   \n",
       "4      9012568         B        15.19         13.21           97.65   \n",
       "..         ...       ...          ...           ...             ...   \n",
       "564  911320502         B        13.17         18.22           84.28   \n",
       "565     898677         B        10.26         14.71           66.20   \n",
       "566     873885         M        15.28         22.41           98.92   \n",
       "567     911201         B        14.53         13.98           93.86   \n",
       "568    9012795         M        21.37         15.10          141.30   \n",
       "\n",
       "     area_mean  smoothness_mean  compactness_mean  concavity_mean  \\\n",
       "0        464.1          0.10280           0.06981         0.03987   \n",
       "1        346.4          0.09688           0.11470         0.06387   \n",
       "2        373.2          0.10770           0.07804         0.03046   \n",
       "3        384.8          0.11640           0.11360         0.04635   \n",
       "4        711.8          0.07963           0.06934         0.03393   \n",
       "..         ...              ...               ...             ...   \n",
       "564      537.3          0.07466           0.05994         0.04859   \n",
       "565      321.6          0.09882           0.09159         0.03581   \n",
       "566      710.6          0.09057           0.10520         0.05375   \n",
       "567      644.2          0.10990           0.09242         0.06895   \n",
       "568     1386.0          0.10010           0.15150         0.19320   \n",
       "\n",
       "     points_mean  ...  radius_worst  texture_worst  perimeter_worst  \\\n",
       "0        0.03700  ...         13.50          15.64            86.97   \n",
       "1        0.02642  ...         11.88          22.94            78.28   \n",
       "2        0.02480  ...         12.41          26.44            79.93   \n",
       "3        0.04796  ...         11.92          15.77            76.53   \n",
       "4        0.02657  ...         16.20          15.73           104.50   \n",
       "..           ...  ...           ...            ...              ...   \n",
       "564      0.02870  ...         14.90          23.89            95.10   \n",
       "565      0.02037  ...         10.88          19.48            70.89   \n",
       "566      0.03263  ...         17.80          28.03           113.80   \n",
       "567      0.06495  ...         15.80          16.93           103.10   \n",
       "568      0.12550  ...         22.69          21.84           152.10   \n",
       "\n",
       "     area_worst  smoothness_worst  compactness_worst  concavity_worst  \\\n",
       "0         549.1            0.1385             0.1266          0.12420   \n",
       "1         424.8            0.1213             0.2515          0.19160   \n",
       "2         471.4            0.1369             0.1482          0.10670   \n",
       "3         434.0            0.1367             0.1822          0.08669   \n",
       "4         819.1            0.1126             0.1737          0.13620   \n",
       "..          ...               ...                ...              ...   \n",
       "564       687.6            0.1282             0.1965          0.18760   \n",
       "565       357.1            0.1360             0.1636          0.07162   \n",
       "566       973.1            0.1301             0.3299          0.36300   \n",
       "567       749.9            0.1347             0.1478          0.13730   \n",
       "568      1535.0            0.1192             0.2840          0.40240   \n",
       "\n",
       "     points_worst  symmetry_worst  dimension_worst  \n",
       "0         0.09391          0.2827          0.06771  \n",
       "1         0.07926          0.2940          0.07587  \n",
       "2         0.07431          0.2998          0.07881  \n",
       "3         0.08611          0.2102          0.06784  \n",
       "4         0.08178          0.2487          0.06766  \n",
       "..            ...             ...              ...  \n",
       "564       0.10450          0.2235          0.06925  \n",
       "565       0.04074          0.2434          0.08488  \n",
       "566       0.12260          0.3175          0.09772  \n",
       "567       0.10690          0.2606          0.07810  \n",
       "568       0.19660          0.2730          0.08666  \n",
       "\n",
       "[569 rows x 32 columns]"
      ]
     },
     "execution_count": 4,
     "metadata": {},
     "output_type": "execute_result"
    }
   ],
   "source": [
    "# Looking at the data\n",
    "\n",
    "cancer_biopsies"
   ]
  },
  {
   "cell_type": "code",
   "execution_count": 5,
   "metadata": {},
   "outputs": [
    {
     "data": {
      "text/plain": [
       "B    357\n",
       "M    212\n",
       "Name: diagnosis, dtype: int64"
      ]
     },
     "execution_count": 5,
     "metadata": {},
     "output_type": "execute_result"
    }
   ],
   "source": [
    "# Diagnosis column examination\n",
    "\n",
    "cancer_biopsies['diagnosis'].value_counts()"
   ]
  },
  {
   "cell_type": "code",
   "execution_count": 6,
   "metadata": {},
   "outputs": [
    {
     "data": {
      "text/plain": [
       "id                   0\n",
       "diagnosis            0\n",
       "radius_mean          0\n",
       "texture_mean         0\n",
       "perimeter_mean       0\n",
       "area_mean            0\n",
       "smoothness_mean      0\n",
       "compactness_mean     0\n",
       "concavity_mean       0\n",
       "points_mean          0\n",
       "symmetry_mean        0\n",
       "dimension_mean       0\n",
       "radius_se            0\n",
       "texture_se           0\n",
       "perimeter_se         0\n",
       "area_se              0\n",
       "smoothness_se        0\n",
       "compactness_se       0\n",
       "concavity_se         0\n",
       "points_se            0\n",
       "symmetry_se          0\n",
       "dimension_se         0\n",
       "radius_worst         0\n",
       "texture_worst        0\n",
       "perimeter_worst      0\n",
       "area_worst           0\n",
       "smoothness_worst     0\n",
       "compactness_worst    0\n",
       "concavity_worst      0\n",
       "points_worst         0\n",
       "symmetry_worst       0\n",
       "dimension_worst      0\n",
       "dtype: int64"
      ]
     },
     "execution_count": 6,
     "metadata": {},
     "output_type": "execute_result"
    }
   ],
   "source": [
    "# Checking if there are no missing values\n",
    "\n",
    "cancer_biopsies.isnull().sum()"
   ]
  },
  {
   "cell_type": "markdown",
   "metadata": {},
   "source": [
    "So far, we can observe the dataset, its data types and we could confirm there are no missing values. Notice that it contains 32 features. One of this features describes the diagnosis, which is our target value. The rest of them are numerical values indicating different attributes of the conducted biopsies but notice that they are grouped by \"worst\", \"se\" (standard error) and \"mean\". For this exercise, we will reduce the dimensionality of the features so we can have an easy handling of the data. Also, we will drop the \"id\" column."
   ]
  },
  {
   "cell_type": "markdown",
   "metadata": {},
   "source": [
    "## Feature Engineering and Statistical Analysis"
   ]
  },
  {
   "cell_type": "code",
   "execution_count": 7,
   "metadata": {},
   "outputs": [
    {
     "data": {
      "application/vnd.jupyter.widget-view+json": {
       "model_id": "a76c62caf4fa4d149b0d59172c1f41ae",
       "version_major": 2,
       "version_minor": 0
      },
      "text/plain": [
       "HBox(children=(HTML(value=''), FloatProgress(value=0.0, layout=Layout(flex='2'), max=33.0), HTML(value='')), l…"
      ]
     },
     "metadata": {},
     "output_type": "display_data"
    },
    {
     "name": "stdout",
     "output_type": "stream",
     "text": [
      "\n",
      "Report SWEETVIZ_REPORT.html was generated! NOTEBOOK/COLAB USERS: the web browser MAY not pop up, regardless, the report IS saved in your notebook/colab files.\n"
     ]
    }
   ],
   "source": [
    "# Generating a statistical report for the data\n",
    "\n",
    "cancer_biopsies_report = sv.analyze(cancer_biopsies)\n",
    "cancer_biopsies_report.show_html()"
   ]
  },
  {
   "cell_type": "code",
   "execution_count": 8,
   "metadata": {},
   "outputs": [
    {
     "data": {
      "text/html": [
       "<div>\n",
       "<style scoped>\n",
       "    .dataframe tbody tr th:only-of-type {\n",
       "        vertical-align: middle;\n",
       "    }\n",
       "\n",
       "    .dataframe tbody tr th {\n",
       "        vertical-align: top;\n",
       "    }\n",
       "\n",
       "    .dataframe thead th {\n",
       "        text-align: right;\n",
       "    }\n",
       "</style>\n",
       "<table border=\"1\" class=\"dataframe\">\n",
       "  <thead>\n",
       "    <tr style=\"text-align: right;\">\n",
       "      <th></th>\n",
       "      <th>diagnosis</th>\n",
       "      <th>radius_mean</th>\n",
       "      <th>texture_mean</th>\n",
       "      <th>perimeter_mean</th>\n",
       "      <th>area_mean</th>\n",
       "      <th>smoothness_mean</th>\n",
       "      <th>compactness_mean</th>\n",
       "      <th>concavity_mean</th>\n",
       "      <th>points_mean</th>\n",
       "      <th>symmetry_mean</th>\n",
       "      <th>...</th>\n",
       "      <th>radius_worst</th>\n",
       "      <th>texture_worst</th>\n",
       "      <th>perimeter_worst</th>\n",
       "      <th>area_worst</th>\n",
       "      <th>smoothness_worst</th>\n",
       "      <th>compactness_worst</th>\n",
       "      <th>concavity_worst</th>\n",
       "      <th>points_worst</th>\n",
       "      <th>symmetry_worst</th>\n",
       "      <th>dimension_worst</th>\n",
       "    </tr>\n",
       "  </thead>\n",
       "  <tbody>\n",
       "    <tr>\n",
       "      <th>0</th>\n",
       "      <td>B</td>\n",
       "      <td>12.32</td>\n",
       "      <td>12.39</td>\n",
       "      <td>78.85</td>\n",
       "      <td>464.1</td>\n",
       "      <td>0.10280</td>\n",
       "      <td>0.06981</td>\n",
       "      <td>0.03987</td>\n",
       "      <td>0.03700</td>\n",
       "      <td>0.1959</td>\n",
       "      <td>...</td>\n",
       "      <td>13.50</td>\n",
       "      <td>15.64</td>\n",
       "      <td>86.97</td>\n",
       "      <td>549.1</td>\n",
       "      <td>0.1385</td>\n",
       "      <td>0.1266</td>\n",
       "      <td>0.12420</td>\n",
       "      <td>0.09391</td>\n",
       "      <td>0.2827</td>\n",
       "      <td>0.06771</td>\n",
       "    </tr>\n",
       "    <tr>\n",
       "      <th>1</th>\n",
       "      <td>B</td>\n",
       "      <td>10.60</td>\n",
       "      <td>18.95</td>\n",
       "      <td>69.28</td>\n",
       "      <td>346.4</td>\n",
       "      <td>0.09688</td>\n",
       "      <td>0.11470</td>\n",
       "      <td>0.06387</td>\n",
       "      <td>0.02642</td>\n",
       "      <td>0.1922</td>\n",
       "      <td>...</td>\n",
       "      <td>11.88</td>\n",
       "      <td>22.94</td>\n",
       "      <td>78.28</td>\n",
       "      <td>424.8</td>\n",
       "      <td>0.1213</td>\n",
       "      <td>0.2515</td>\n",
       "      <td>0.19160</td>\n",
       "      <td>0.07926</td>\n",
       "      <td>0.2940</td>\n",
       "      <td>0.07587</td>\n",
       "    </tr>\n",
       "    <tr>\n",
       "      <th>2</th>\n",
       "      <td>B</td>\n",
       "      <td>11.04</td>\n",
       "      <td>16.83</td>\n",
       "      <td>70.92</td>\n",
       "      <td>373.2</td>\n",
       "      <td>0.10770</td>\n",
       "      <td>0.07804</td>\n",
       "      <td>0.03046</td>\n",
       "      <td>0.02480</td>\n",
       "      <td>0.1714</td>\n",
       "      <td>...</td>\n",
       "      <td>12.41</td>\n",
       "      <td>26.44</td>\n",
       "      <td>79.93</td>\n",
       "      <td>471.4</td>\n",
       "      <td>0.1369</td>\n",
       "      <td>0.1482</td>\n",
       "      <td>0.10670</td>\n",
       "      <td>0.07431</td>\n",
       "      <td>0.2998</td>\n",
       "      <td>0.07881</td>\n",
       "    </tr>\n",
       "    <tr>\n",
       "      <th>3</th>\n",
       "      <td>B</td>\n",
       "      <td>11.28</td>\n",
       "      <td>13.39</td>\n",
       "      <td>73.00</td>\n",
       "      <td>384.8</td>\n",
       "      <td>0.11640</td>\n",
       "      <td>0.11360</td>\n",
       "      <td>0.04635</td>\n",
       "      <td>0.04796</td>\n",
       "      <td>0.1771</td>\n",
       "      <td>...</td>\n",
       "      <td>11.92</td>\n",
       "      <td>15.77</td>\n",
       "      <td>76.53</td>\n",
       "      <td>434.0</td>\n",
       "      <td>0.1367</td>\n",
       "      <td>0.1822</td>\n",
       "      <td>0.08669</td>\n",
       "      <td>0.08611</td>\n",
       "      <td>0.2102</td>\n",
       "      <td>0.06784</td>\n",
       "    </tr>\n",
       "    <tr>\n",
       "      <th>4</th>\n",
       "      <td>B</td>\n",
       "      <td>15.19</td>\n",
       "      <td>13.21</td>\n",
       "      <td>97.65</td>\n",
       "      <td>711.8</td>\n",
       "      <td>0.07963</td>\n",
       "      <td>0.06934</td>\n",
       "      <td>0.03393</td>\n",
       "      <td>0.02657</td>\n",
       "      <td>0.1721</td>\n",
       "      <td>...</td>\n",
       "      <td>16.20</td>\n",
       "      <td>15.73</td>\n",
       "      <td>104.50</td>\n",
       "      <td>819.1</td>\n",
       "      <td>0.1126</td>\n",
       "      <td>0.1737</td>\n",
       "      <td>0.13620</td>\n",
       "      <td>0.08178</td>\n",
       "      <td>0.2487</td>\n",
       "      <td>0.06766</td>\n",
       "    </tr>\n",
       "    <tr>\n",
       "      <th>...</th>\n",
       "      <td>...</td>\n",
       "      <td>...</td>\n",
       "      <td>...</td>\n",
       "      <td>...</td>\n",
       "      <td>...</td>\n",
       "      <td>...</td>\n",
       "      <td>...</td>\n",
       "      <td>...</td>\n",
       "      <td>...</td>\n",
       "      <td>...</td>\n",
       "      <td>...</td>\n",
       "      <td>...</td>\n",
       "      <td>...</td>\n",
       "      <td>...</td>\n",
       "      <td>...</td>\n",
       "      <td>...</td>\n",
       "      <td>...</td>\n",
       "      <td>...</td>\n",
       "      <td>...</td>\n",
       "      <td>...</td>\n",
       "      <td>...</td>\n",
       "    </tr>\n",
       "    <tr>\n",
       "      <th>564</th>\n",
       "      <td>B</td>\n",
       "      <td>13.17</td>\n",
       "      <td>18.22</td>\n",
       "      <td>84.28</td>\n",
       "      <td>537.3</td>\n",
       "      <td>0.07466</td>\n",
       "      <td>0.05994</td>\n",
       "      <td>0.04859</td>\n",
       "      <td>0.02870</td>\n",
       "      <td>0.1454</td>\n",
       "      <td>...</td>\n",
       "      <td>14.90</td>\n",
       "      <td>23.89</td>\n",
       "      <td>95.10</td>\n",
       "      <td>687.6</td>\n",
       "      <td>0.1282</td>\n",
       "      <td>0.1965</td>\n",
       "      <td>0.18760</td>\n",
       "      <td>0.10450</td>\n",
       "      <td>0.2235</td>\n",
       "      <td>0.06925</td>\n",
       "    </tr>\n",
       "    <tr>\n",
       "      <th>565</th>\n",
       "      <td>B</td>\n",
       "      <td>10.26</td>\n",
       "      <td>14.71</td>\n",
       "      <td>66.20</td>\n",
       "      <td>321.6</td>\n",
       "      <td>0.09882</td>\n",
       "      <td>0.09159</td>\n",
       "      <td>0.03581</td>\n",
       "      <td>0.02037</td>\n",
       "      <td>0.1633</td>\n",
       "      <td>...</td>\n",
       "      <td>10.88</td>\n",
       "      <td>19.48</td>\n",
       "      <td>70.89</td>\n",
       "      <td>357.1</td>\n",
       "      <td>0.1360</td>\n",
       "      <td>0.1636</td>\n",
       "      <td>0.07162</td>\n",
       "      <td>0.04074</td>\n",
       "      <td>0.2434</td>\n",
       "      <td>0.08488</td>\n",
       "    </tr>\n",
       "    <tr>\n",
       "      <th>566</th>\n",
       "      <td>M</td>\n",
       "      <td>15.28</td>\n",
       "      <td>22.41</td>\n",
       "      <td>98.92</td>\n",
       "      <td>710.6</td>\n",
       "      <td>0.09057</td>\n",
       "      <td>0.10520</td>\n",
       "      <td>0.05375</td>\n",
       "      <td>0.03263</td>\n",
       "      <td>0.1727</td>\n",
       "      <td>...</td>\n",
       "      <td>17.80</td>\n",
       "      <td>28.03</td>\n",
       "      <td>113.80</td>\n",
       "      <td>973.1</td>\n",
       "      <td>0.1301</td>\n",
       "      <td>0.3299</td>\n",
       "      <td>0.36300</td>\n",
       "      <td>0.12260</td>\n",
       "      <td>0.3175</td>\n",
       "      <td>0.09772</td>\n",
       "    </tr>\n",
       "    <tr>\n",
       "      <th>567</th>\n",
       "      <td>B</td>\n",
       "      <td>14.53</td>\n",
       "      <td>13.98</td>\n",
       "      <td>93.86</td>\n",
       "      <td>644.2</td>\n",
       "      <td>0.10990</td>\n",
       "      <td>0.09242</td>\n",
       "      <td>0.06895</td>\n",
       "      <td>0.06495</td>\n",
       "      <td>0.1650</td>\n",
       "      <td>...</td>\n",
       "      <td>15.80</td>\n",
       "      <td>16.93</td>\n",
       "      <td>103.10</td>\n",
       "      <td>749.9</td>\n",
       "      <td>0.1347</td>\n",
       "      <td>0.1478</td>\n",
       "      <td>0.13730</td>\n",
       "      <td>0.10690</td>\n",
       "      <td>0.2606</td>\n",
       "      <td>0.07810</td>\n",
       "    </tr>\n",
       "    <tr>\n",
       "      <th>568</th>\n",
       "      <td>M</td>\n",
       "      <td>21.37</td>\n",
       "      <td>15.10</td>\n",
       "      <td>141.30</td>\n",
       "      <td>1386.0</td>\n",
       "      <td>0.10010</td>\n",
       "      <td>0.15150</td>\n",
       "      <td>0.19320</td>\n",
       "      <td>0.12550</td>\n",
       "      <td>0.1973</td>\n",
       "      <td>...</td>\n",
       "      <td>22.69</td>\n",
       "      <td>21.84</td>\n",
       "      <td>152.10</td>\n",
       "      <td>1535.0</td>\n",
       "      <td>0.1192</td>\n",
       "      <td>0.2840</td>\n",
       "      <td>0.40240</td>\n",
       "      <td>0.19660</td>\n",
       "      <td>0.2730</td>\n",
       "      <td>0.08666</td>\n",
       "    </tr>\n",
       "  </tbody>\n",
       "</table>\n",
       "<p>569 rows × 31 columns</p>\n",
       "</div>"
      ],
      "text/plain": [
       "    diagnosis  radius_mean  texture_mean  perimeter_mean  area_mean  \\\n",
       "0           B        12.32         12.39           78.85      464.1   \n",
       "1           B        10.60         18.95           69.28      346.4   \n",
       "2           B        11.04         16.83           70.92      373.2   \n",
       "3           B        11.28         13.39           73.00      384.8   \n",
       "4           B        15.19         13.21           97.65      711.8   \n",
       "..        ...          ...           ...             ...        ...   \n",
       "564         B        13.17         18.22           84.28      537.3   \n",
       "565         B        10.26         14.71           66.20      321.6   \n",
       "566         M        15.28         22.41           98.92      710.6   \n",
       "567         B        14.53         13.98           93.86      644.2   \n",
       "568         M        21.37         15.10          141.30     1386.0   \n",
       "\n",
       "     smoothness_mean  compactness_mean  concavity_mean  points_mean  \\\n",
       "0            0.10280           0.06981         0.03987      0.03700   \n",
       "1            0.09688           0.11470         0.06387      0.02642   \n",
       "2            0.10770           0.07804         0.03046      0.02480   \n",
       "3            0.11640           0.11360         0.04635      0.04796   \n",
       "4            0.07963           0.06934         0.03393      0.02657   \n",
       "..               ...               ...             ...          ...   \n",
       "564          0.07466           0.05994         0.04859      0.02870   \n",
       "565          0.09882           0.09159         0.03581      0.02037   \n",
       "566          0.09057           0.10520         0.05375      0.03263   \n",
       "567          0.10990           0.09242         0.06895      0.06495   \n",
       "568          0.10010           0.15150         0.19320      0.12550   \n",
       "\n",
       "     symmetry_mean  ...  radius_worst  texture_worst  perimeter_worst  \\\n",
       "0           0.1959  ...         13.50          15.64            86.97   \n",
       "1           0.1922  ...         11.88          22.94            78.28   \n",
       "2           0.1714  ...         12.41          26.44            79.93   \n",
       "3           0.1771  ...         11.92          15.77            76.53   \n",
       "4           0.1721  ...         16.20          15.73           104.50   \n",
       "..             ...  ...           ...            ...              ...   \n",
       "564         0.1454  ...         14.90          23.89            95.10   \n",
       "565         0.1633  ...         10.88          19.48            70.89   \n",
       "566         0.1727  ...         17.80          28.03           113.80   \n",
       "567         0.1650  ...         15.80          16.93           103.10   \n",
       "568         0.1973  ...         22.69          21.84           152.10   \n",
       "\n",
       "     area_worst  smoothness_worst  compactness_worst  concavity_worst  \\\n",
       "0         549.1            0.1385             0.1266          0.12420   \n",
       "1         424.8            0.1213             0.2515          0.19160   \n",
       "2         471.4            0.1369             0.1482          0.10670   \n",
       "3         434.0            0.1367             0.1822          0.08669   \n",
       "4         819.1            0.1126             0.1737          0.13620   \n",
       "..          ...               ...                ...              ...   \n",
       "564       687.6            0.1282             0.1965          0.18760   \n",
       "565       357.1            0.1360             0.1636          0.07162   \n",
       "566       973.1            0.1301             0.3299          0.36300   \n",
       "567       749.9            0.1347             0.1478          0.13730   \n",
       "568      1535.0            0.1192             0.2840          0.40240   \n",
       "\n",
       "     points_worst  symmetry_worst  dimension_worst  \n",
       "0         0.09391          0.2827          0.06771  \n",
       "1         0.07926          0.2940          0.07587  \n",
       "2         0.07431          0.2998          0.07881  \n",
       "3         0.08611          0.2102          0.06784  \n",
       "4         0.08178          0.2487          0.06766  \n",
       "..            ...             ...              ...  \n",
       "564       0.10450          0.2235          0.06925  \n",
       "565       0.04074          0.2434          0.08488  \n",
       "566       0.12260          0.3175          0.09772  \n",
       "567       0.10690          0.2606          0.07810  \n",
       "568       0.19660          0.2730          0.08666  \n",
       "\n",
       "[569 rows x 31 columns]"
      ]
     },
     "execution_count": 8,
     "metadata": {},
     "output_type": "execute_result"
    }
   ],
   "source": [
    "# Dropping id column as it is not needed\n",
    "\n",
    "cancer_biopsies = cancer_biopsies.drop('id', axis = 1)\n",
    "cancer_biopsies"
   ]
  },
  {
   "cell_type": "code",
   "execution_count": 9,
   "metadata": {},
   "outputs": [],
   "source": [
    "# Converting the columns to numpy arrays\n",
    "\n",
    "x_cancer_biopsies = cancer_biopsies.drop('diagnosis', axis = 1).to_numpy()\n",
    "y_cancer_biopsies = cancer_biopsies['diagnosis'].to_numpy()\n",
    "\n",
    "# Turning off scientific notation\n",
    "\n",
    "np.set_printoptions(suppress = True)"
   ]
  },
  {
   "cell_type": "code",
   "execution_count": 10,
   "metadata": {},
   "outputs": [
    {
     "data": {
      "text/plain": [
       "array([[ 12.32   ,  12.39   ,  78.85   , ...,   0.09391,   0.2827 ,\n",
       "          0.06771],\n",
       "       [ 10.6    ,  18.95   ,  69.28   , ...,   0.07926,   0.294  ,\n",
       "          0.07587],\n",
       "       [ 11.04   ,  16.83   ,  70.92   , ...,   0.07431,   0.2998 ,\n",
       "          0.07881],\n",
       "       ...,\n",
       "       [ 15.28   ,  22.41   ,  98.92   , ...,   0.1226 ,   0.3175 ,\n",
       "          0.09772],\n",
       "       [ 14.53   ,  13.98   ,  93.86   , ...,   0.1069 ,   0.2606 ,\n",
       "          0.0781 ],\n",
       "       [ 21.37   ,  15.1    , 141.3    , ...,   0.1966 ,   0.273  ,\n",
       "          0.08666]])"
      ]
     },
     "execution_count": 10,
     "metadata": {},
     "output_type": "execute_result"
    }
   ],
   "source": [
    "x_cancer_biopsies"
   ]
  },
  {
   "cell_type": "code",
   "execution_count": 11,
   "metadata": {},
   "outputs": [
    {
     "data": {
      "text/plain": [
       "array(['B', 'B', 'B', 'B', 'B', 'B', 'B', 'M', 'B', 'B', 'M', 'B', 'B',\n",
       "       'B', 'M', 'B', 'B', 'B', 'M', 'B', 'B', 'B', 'B', 'B', 'B', 'M',\n",
       "       'B', 'M', 'B', 'B', 'B', 'M', 'M', 'B', 'B', 'B', 'M', 'B', 'M',\n",
       "       'M', 'M', 'M', 'M', 'B', 'B', 'M', 'B', 'M', 'B', 'B', 'M', 'B',\n",
       "       'B', 'B', 'M', 'B', 'B', 'B', 'M', 'M', 'M', 'M', 'M', 'M', 'M',\n",
       "       'B', 'B', 'B', 'B', 'B', 'M', 'B', 'B', 'B', 'B', 'B', 'M', 'B',\n",
       "       'B', 'M', 'B', 'B', 'B', 'B', 'B', 'B', 'B', 'B', 'M', 'B', 'B',\n",
       "       'B', 'M', 'B', 'M', 'M', 'B', 'B', 'B', 'M', 'B', 'B', 'B', 'M',\n",
       "       'B', 'B', 'B', 'B', 'B', 'B', 'B', 'B', 'M', 'M', 'B', 'M', 'M',\n",
       "       'M', 'M', 'B', 'B', 'M', 'B', 'M', 'B', 'B', 'M', 'M', 'M', 'M',\n",
       "       'M', 'B', 'B', 'M', 'B', 'M', 'B', 'B', 'M', 'B', 'M', 'M', 'M',\n",
       "       'M', 'M', 'B', 'M', 'B', 'B', 'B', 'B', 'B', 'B', 'B', 'B', 'B',\n",
       "       'B', 'M', 'B', 'B', 'B', 'B', 'B', 'B', 'M', 'M', 'B', 'M', 'B',\n",
       "       'B', 'M', 'M', 'M', 'B', 'M', 'B', 'M', 'B', 'M', 'B', 'B', 'M',\n",
       "       'B', 'M', 'B', 'B', 'M', 'M', 'M', 'B', 'M', 'B', 'B', 'M', 'M',\n",
       "       'M', 'M', 'B', 'B', 'B', 'M', 'B', 'B', 'B', 'B', 'M', 'B', 'M',\n",
       "       'B', 'M', 'B', 'M', 'M', 'B', 'B', 'B', 'B', 'B', 'M', 'M', 'B',\n",
       "       'B', 'M', 'B', 'B', 'B', 'B', 'M', 'M', 'B', 'B', 'B', 'B', 'M',\n",
       "       'B', 'B', 'M', 'B', 'B', 'B', 'M', 'B', 'B', 'M', 'M', 'B', 'B',\n",
       "       'B', 'B', 'B', 'B', 'M', 'B', 'M', 'B', 'B', 'B', 'B', 'B', 'B',\n",
       "       'B', 'B', 'M', 'B', 'M', 'M', 'B', 'B', 'B', 'M', 'B', 'M', 'B',\n",
       "       'B', 'M', 'M', 'B', 'M', 'B', 'B', 'M', 'B', 'B', 'B', 'M', 'B',\n",
       "       'M', 'M', 'M', 'B', 'B', 'B', 'M', 'B', 'M', 'M', 'M', 'M', 'B',\n",
       "       'M', 'M', 'B', 'B', 'M', 'M', 'M', 'M', 'B', 'B', 'B', 'M', 'M',\n",
       "       'B', 'B', 'M', 'B', 'M', 'M', 'B', 'B', 'B', 'M', 'M', 'B', 'B',\n",
       "       'M', 'B', 'M', 'B', 'M', 'B', 'B', 'B', 'B', 'M', 'B', 'B', 'B',\n",
       "       'M', 'B', 'B', 'M', 'M', 'B', 'M', 'B', 'B', 'B', 'M', 'B', 'B',\n",
       "       'M', 'B', 'B', 'M', 'B', 'B', 'B', 'M', 'B', 'M', 'M', 'B', 'B',\n",
       "       'B', 'B', 'M', 'B', 'B', 'M', 'B', 'B', 'B', 'B', 'B', 'B', 'B',\n",
       "       'B', 'B', 'B', 'B', 'B', 'M', 'M', 'B', 'B', 'M', 'B', 'M', 'B',\n",
       "       'M', 'B', 'B', 'M', 'B', 'B', 'B', 'M', 'M', 'B', 'B', 'B', 'M',\n",
       "       'M', 'B', 'M', 'B', 'B', 'M', 'B', 'B', 'B', 'B', 'B', 'B', 'M',\n",
       "       'B', 'B', 'M', 'M', 'B', 'M', 'B', 'B', 'B', 'M', 'B', 'B', 'B',\n",
       "       'M', 'M', 'M', 'B', 'M', 'B', 'B', 'M', 'B', 'B', 'B', 'B', 'B',\n",
       "       'M', 'B', 'M', 'B', 'B', 'B', 'B', 'M', 'B', 'M', 'M', 'B', 'B',\n",
       "       'B', 'B', 'M', 'B', 'B', 'M', 'M', 'B', 'B', 'M', 'B', 'B', 'M',\n",
       "       'B', 'B', 'B', 'B', 'B', 'M', 'B', 'M', 'B', 'M', 'B', 'M', 'B',\n",
       "       'M', 'M', 'B', 'B', 'M', 'B', 'M', 'B', 'M', 'M', 'M', 'M', 'B',\n",
       "       'B', 'B', 'B', 'M', 'M', 'M', 'M', 'M', 'M', 'B', 'B', 'B', 'B',\n",
       "       'B', 'M', 'M', 'B', 'M', 'M', 'B', 'M', 'M', 'M', 'M', 'M', 'B',\n",
       "       'B', 'B', 'M', 'B', 'B', 'B', 'B', 'M', 'B', 'B', 'B', 'B', 'B',\n",
       "       'M', 'M', 'B', 'B', 'B', 'B', 'B', 'M', 'B', 'B', 'M', 'M', 'B',\n",
       "       'B', 'B', 'B', 'B', 'B', 'B', 'M', 'B', 'B', 'M', 'B', 'B', 'B',\n",
       "       'B', 'M', 'B', 'B', 'B', 'B', 'B', 'M', 'B', 'M'], dtype=object)"
      ]
     },
     "execution_count": 11,
     "metadata": {},
     "output_type": "execute_result"
    }
   ],
   "source": [
    "y_cancer_biopsies"
   ]
  },
  {
   "cell_type": "code",
   "execution_count": 12,
   "metadata": {},
   "outputs": [],
   "source": [
    "pca = PCA(n_components = 2)\n",
    "pca.fit(x_cancer_biopsies)\n",
    "X_cancer = pca.transform(x_cancer_biopsies)"
   ]
  },
  {
   "cell_type": "code",
   "execution_count": 13,
   "metadata": {},
   "outputs": [
    {
     "data": {
      "text/plain": [
       "array([[-383.86745322,    8.91186935],\n",
       "       [-550.8155364 ,  -27.39891107],\n",
       "       [-497.86764525,  -28.82723528],\n",
       "       ...,\n",
       "       [ 107.05828016,   -0.38219657],\n",
       "       [-117.87133456,   58.9600115 ],\n",
       "       [ 939.39972079,  285.85296421]])"
      ]
     },
     "execution_count": 13,
     "metadata": {},
     "output_type": "execute_result"
    }
   ],
   "source": [
    "X_cancer"
   ]
  },
  {
   "cell_type": "code",
   "execution_count": 14,
   "metadata": {},
   "outputs": [
    {
     "data": {
      "text/html": [
       "<div>\n",
       "<style scoped>\n",
       "    .dataframe tbody tr th:only-of-type {\n",
       "        vertical-align: middle;\n",
       "    }\n",
       "\n",
       "    .dataframe tbody tr th {\n",
       "        vertical-align: top;\n",
       "    }\n",
       "\n",
       "    .dataframe thead th {\n",
       "        text-align: right;\n",
       "    }\n",
       "</style>\n",
       "<table border=\"1\" class=\"dataframe\">\n",
       "  <thead>\n",
       "    <tr style=\"text-align: right;\">\n",
       "      <th></th>\n",
       "      <th>Feature 1</th>\n",
       "      <th>Feature 2</th>\n",
       "      <th>Label</th>\n",
       "    </tr>\n",
       "  </thead>\n",
       "  <tbody>\n",
       "    <tr>\n",
       "      <th>0</th>\n",
       "      <td>-383.867453</td>\n",
       "      <td>8.911869</td>\n",
       "      <td>B</td>\n",
       "    </tr>\n",
       "    <tr>\n",
       "      <th>1</th>\n",
       "      <td>-550.815536</td>\n",
       "      <td>-27.398911</td>\n",
       "      <td>B</td>\n",
       "    </tr>\n",
       "    <tr>\n",
       "      <th>2</th>\n",
       "      <td>-497.867645</td>\n",
       "      <td>-28.827235</td>\n",
       "      <td>B</td>\n",
       "    </tr>\n",
       "    <tr>\n",
       "      <th>3</th>\n",
       "      <td>-523.163457</td>\n",
       "      <td>0.873333</td>\n",
       "      <td>B</td>\n",
       "    </tr>\n",
       "    <tr>\n",
       "      <th>4</th>\n",
       "      <td>-24.21458</td>\n",
       "      <td>80.777953</td>\n",
       "      <td>B</td>\n",
       "    </tr>\n",
       "    <tr>\n",
       "      <th>...</th>\n",
       "      <td>...</td>\n",
       "      <td>...</td>\n",
       "      <td>...</td>\n",
       "    </tr>\n",
       "    <tr>\n",
       "      <th>564</th>\n",
       "      <td>-227.411027</td>\n",
       "      <td>-0.502889</td>\n",
       "      <td>B</td>\n",
       "    </tr>\n",
       "    <tr>\n",
       "      <th>565</th>\n",
       "      <td>-622.255336</td>\n",
       "      <td>-13.532816</td>\n",
       "      <td>B</td>\n",
       "    </tr>\n",
       "    <tr>\n",
       "      <th>566</th>\n",
       "      <td>107.05828</td>\n",
       "      <td>-0.382197</td>\n",
       "      <td>M</td>\n",
       "    </tr>\n",
       "    <tr>\n",
       "      <th>567</th>\n",
       "      <td>-117.871335</td>\n",
       "      <td>58.960012</td>\n",
       "      <td>B</td>\n",
       "    </tr>\n",
       "    <tr>\n",
       "      <th>568</th>\n",
       "      <td>939.399721</td>\n",
       "      <td>285.852964</td>\n",
       "      <td>M</td>\n",
       "    </tr>\n",
       "  </tbody>\n",
       "</table>\n",
       "<p>569 rows × 3 columns</p>\n",
       "</div>"
      ],
      "text/plain": [
       "      Feature 1   Feature 2 Label\n",
       "0   -383.867453    8.911869     B\n",
       "1   -550.815536  -27.398911     B\n",
       "2   -497.867645  -28.827235     B\n",
       "3   -523.163457    0.873333     B\n",
       "4     -24.21458   80.777953     B\n",
       "..          ...         ...   ...\n",
       "564 -227.411027   -0.502889     B\n",
       "565 -622.255336  -13.532816     B\n",
       "566   107.05828   -0.382197     M\n",
       "567 -117.871335   58.960012     B\n",
       "568  939.399721  285.852964     M\n",
       "\n",
       "[569 rows x 3 columns]"
      ]
     },
     "execution_count": 14,
     "metadata": {},
     "output_type": "execute_result"
    }
   ],
   "source": [
    "# Generating a new data frame from this 2D data\n",
    "\n",
    "cancer_biopsies_info = pd.DataFrame(data = np.c_[X_cancer, y_cancer_biopsies], columns = ['Feature 1', 'Feature 2', 'Label'])\n",
    "\n",
    "cancer_biopsies_info"
   ]
  },
  {
   "cell_type": "markdown",
   "metadata": {},
   "source": [
    "So far, we were able to perform some feature engineering tasks and statistical analysis of the data. Since we need to work with significant data, we reduced the original features (32 of them) to only two features that are correlated. This helps us and our model to improve in the training and prediction accuracy."
   ]
  },
  {
   "cell_type": "code",
   "execution_count": 15,
   "metadata": {},
   "outputs": [
    {
     "data": {
      "text/plain": [
       "<seaborn.axisgrid.PairGrid at 0x1f98bad98b0>"
      ]
     },
     "execution_count": 15,
     "metadata": {},
     "output_type": "execute_result"
    },
    {
     "data": {
      "image/png": "[encoded data removed]",
      "text/plain": [
       "<Figure size 562.125x500 with 6 Axes>"
      ]
     },
     "metadata": {},
     "output_type": "display_data"
    }
   ],
   "source": [
    "sns.pairplot(cancer_biopsies_info, hue = 'Label', palette = 'bright')"
   ]
  },
  {
   "cell_type": "code",
   "execution_count": 16,
   "metadata": {},
   "outputs": [],
   "source": [
    "# Converting categorical values from diagnosis columns into numerical values\n",
    "\n",
    "cancer_biopsies_info = cancer_biopsies_info.replace('B', 0)\n",
    "cancer_biopsies_info = cancer_biopsies_info.replace('M', 1)"
   ]
  },
  {
   "cell_type": "code",
   "execution_count": 17,
   "metadata": {},
   "outputs": [
    {
     "data": {
      "text/plain": [
       "<matplotlib.collections.PathCollection at 0x1f99e565760>"
      ]
     },
     "execution_count": 17,
     "metadata": {},
     "output_type": "execute_result"
    },
    {
     "data": {
      "image/png": "[encoded data removed]",
      "text/plain": [
       "<Figure size 600x400 with 1 Axes>"
      ]
     },
     "metadata": {},
     "output_type": "display_data"
    }
   ],
   "source": [
    "y = cancer_biopsies_info['Label']\n",
    "X = cancer_biopsies_info.iloc[:, 0:2]\n",
    "plt.scatter(X.iloc[:, 0], X.iloc[:, 1], c = y, s = 25, cmap = 'winter')"
   ]
  },
  {
   "cell_type": "code",
   "execution_count": 18,
   "metadata": {},
   "outputs": [
    {
     "data": {
      "text/plain": [
       "array([-1, -1, -1, -1, -1, -1, -1,  1, -1, -1,  1, -1, -1, -1,  1, -1, -1,\n",
       "       -1,  1, -1, -1, -1, -1, -1, -1,  1, -1,  1, -1, -1, -1,  1,  1, -1,\n",
       "       -1, -1,  1, -1,  1,  1,  1,  1,  1, -1, -1,  1, -1,  1, -1, -1,  1,\n",
       "       -1, -1, -1,  1, -1, -1, -1,  1,  1,  1,  1,  1,  1,  1, -1, -1, -1,\n",
       "       -1, -1,  1, -1, -1, -1, -1, -1,  1, -1, -1,  1, -1, -1, -1, -1, -1,\n",
       "       -1, -1, -1,  1, -1, -1, -1,  1, -1,  1,  1, -1, -1, -1,  1, -1, -1,\n",
       "       -1,  1, -1, -1, -1, -1, -1, -1, -1, -1,  1,  1, -1,  1,  1,  1,  1,\n",
       "       -1, -1,  1, -1,  1, -1, -1,  1,  1,  1,  1,  1, -1, -1,  1, -1,  1,\n",
       "       -1, -1,  1, -1,  1,  1,  1,  1,  1, -1,  1, -1, -1, -1, -1, -1, -1,\n",
       "       -1, -1, -1, -1,  1, -1, -1, -1, -1, -1, -1,  1,  1, -1,  1, -1, -1,\n",
       "        1,  1,  1, -1,  1, -1,  1, -1,  1, -1, -1,  1, -1,  1, -1, -1,  1,\n",
       "        1,  1, -1,  1, -1, -1,  1,  1,  1,  1, -1, -1, -1,  1, -1, -1, -1,\n",
       "       -1,  1, -1,  1, -1,  1, -1,  1,  1, -1, -1, -1, -1, -1,  1,  1, -1,\n",
       "       -1,  1, -1, -1, -1, -1,  1,  1, -1, -1, -1, -1,  1, -1, -1,  1, -1,\n",
       "       -1, -1,  1, -1, -1,  1,  1, -1, -1, -1, -1, -1, -1,  1, -1,  1, -1,\n",
       "       -1, -1, -1, -1, -1, -1, -1,  1, -1,  1,  1, -1, -1, -1,  1, -1,  1,\n",
       "       -1, -1,  1,  1, -1,  1, -1, -1,  1, -1, -1, -1,  1, -1,  1,  1,  1,\n",
       "       -1, -1, -1,  1, -1,  1,  1,  1,  1, -1,  1,  1, -1, -1,  1,  1,  1,\n",
       "        1, -1, -1, -1,  1,  1, -1, -1,  1, -1,  1,  1, -1, -1, -1,  1,  1,\n",
       "       -1, -1,  1, -1,  1, -1,  1, -1, -1, -1, -1,  1, -1, -1, -1,  1, -1,\n",
       "       -1,  1,  1, -1,  1, -1, -1, -1,  1, -1, -1,  1, -1, -1,  1, -1, -1,\n",
       "       -1,  1, -1,  1,  1, -1, -1, -1, -1,  1, -1, -1,  1, -1, -1, -1, -1,\n",
       "       -1, -1, -1, -1, -1, -1, -1, -1,  1,  1, -1, -1,  1, -1,  1, -1,  1,\n",
       "       -1, -1,  1, -1, -1, -1,  1,  1, -1, -1, -1,  1,  1, -1,  1, -1, -1,\n",
       "        1, -1, -1, -1, -1, -1, -1,  1, -1, -1,  1,  1, -1,  1, -1, -1, -1,\n",
       "        1, -1, -1, -1,  1,  1,  1, -1,  1, -1, -1,  1, -1, -1, -1, -1, -1,\n",
       "        1, -1,  1, -1, -1, -1, -1,  1, -1,  1,  1, -1, -1, -1, -1,  1, -1,\n",
       "       -1,  1,  1, -1, -1,  1, -1, -1,  1, -1, -1, -1, -1, -1,  1, -1,  1,\n",
       "       -1,  1, -1,  1, -1,  1,  1, -1, -1,  1, -1,  1, -1,  1,  1,  1,  1,\n",
       "       -1, -1, -1, -1,  1,  1,  1,  1,  1,  1, -1, -1, -1, -1, -1,  1,  1,\n",
       "       -1,  1,  1, -1,  1,  1,  1,  1,  1, -1, -1, -1,  1, -1, -1, -1, -1,\n",
       "        1, -1, -1, -1, -1, -1,  1,  1, -1, -1, -1, -1, -1,  1, -1, -1,  1,\n",
       "        1, -1, -1, -1, -1, -1, -1, -1,  1, -1, -1,  1, -1, -1, -1, -1,  1,\n",
       "       -1, -1, -1, -1, -1,  1, -1,  1], dtype=int64)"
      ]
     },
     "execution_count": 18,
     "metadata": {},
     "output_type": "execute_result"
    }
   ],
   "source": [
    "# Transforming labels into {-1, 1}\n",
    "\n",
    "y = (2 * LabelEncoder().fit_transform(y)) - 1 # Labels : -1 and +1\n",
    "y"
   ]
  },
  {
   "cell_type": "markdown",
   "metadata": {},
   "source": [
    "## Training and Testing\n",
    "\n",
    "<p> The following code will help us to split our data into training, validation and testing sets. </p>"
   ]
  },
  {
   "cell_type": "code",
   "execution_count": 19,
   "metadata": {},
   "outputs": [],
   "source": [
    "# Splitting data 60% training - 20% validation - 20% testing\n",
    "\n",
    "(X_train, X_valid, y_train, y_valid) = train_test_split(X, y, test_size = 0.4, random_state = 0)\n",
    "(X_validation, X_test, y_validation, y_test) = train_test_split(X_valid, y_valid, test_size = 0.5, random_state = 0)"
   ]
  },
  {
   "cell_type": "code",
   "execution_count": 20,
   "metadata": {},
   "outputs": [
    {
     "data": {
      "text/plain": [
       "SVC(kernel='linear')"
      ]
     },
     "execution_count": 20,
     "metadata": {},
     "output_type": "execute_result"
    }
   ],
   "source": [
    "svm_kernel_linear = SVC(kernel = 'linear')\n",
    "svm_kernel_linear.fit(X_train, y_train)"
   ]
  },
  {
   "cell_type": "code",
   "execution_count": 21,
   "metadata": {
    "scrolled": true
   },
   "outputs": [
    {
     "data": {
      "text/plain": [
       "array([[ -46.99959732,   63.13510947],\n",
       "       [ 247.07096244,  114.29591563],\n",
       "       [ -37.62907412,   35.23655914],\n",
       "       [ -96.55625225,  -62.35469643],\n",
       "       [ -59.15737337,   38.71074425],\n",
       "       [-146.89051433,   20.388089  ],\n",
       "       [-192.43066999,   -5.30836619],\n",
       "       [ 457.3394062 ,  117.6746039 ],\n",
       "       [ -63.49267252,   -4.07985883],\n",
       "       [ -39.66207192,   39.81482204],\n",
       "       [-164.87330188,    2.68254509],\n",
       "       [-191.6210454 ,   12.25917767],\n",
       "       [ -29.53065115,   29.22975275],\n",
       "       [ -12.78138356,   -7.5951997 ],\n",
       "       [-183.9281351 ,  -19.40288898],\n",
       "       [ -66.79162715,   37.83677258],\n",
       "       [  91.16660918,   69.69070588],\n",
       "       [-260.05262511,  -31.3150416 ],\n",
       "       [-263.62343577,  -42.76855265],\n",
       "       [-134.10339183,  -12.27880202],\n",
       "       [ -41.02131852,   30.10846555],\n",
       "       [ -61.94248441,   46.67275028],\n",
       "       [-308.52588757,  -40.27791179],\n",
       "       [  80.26989192,   33.45177335],\n",
       "       [-116.0862348 ,   33.93519067],\n",
       "       [ 204.75700585,   90.21172539],\n",
       "       [-200.88095263,    7.0454306 ],\n",
       "       [  38.13055425,   14.01479642],\n",
       "       [ -34.32414152,   43.65001698],\n",
       "       [ 145.3696832 ,   32.50065098],\n",
       "       [-109.46470092,   -2.22926896],\n",
       "       [-128.97315587,  132.60688701],\n",
       "       [ 606.82432656,  191.92337036],\n",
       "       [-127.99476078,  -30.68749823],\n",
       "       [ -53.10555283,   17.59638693],\n",
       "       [ 206.70012261,   50.76272082],\n",
       "       [ 171.32541161,   98.38313932],\n",
       "       [ 641.49792575,  219.95620029],\n",
       "       [-211.59125901,  -79.87744626],\n",
       "       [-238.29286318,  -65.38650692],\n",
       "       [-143.99456732,   57.60467871],\n",
       "       [ 178.68853567,  100.33921826],\n",
       "       [ -95.55636165,  -25.01734283],\n",
       "       [-184.70736263,  -33.08065885],\n",
       "       [ -81.93358585,   -1.78031024],\n",
       "       [  84.93189008,   71.36345367],\n",
       "       [-151.62188773,    2.88015225],\n",
       "       [  77.34963631,   28.79057905],\n",
       "       [-187.83080167,  -94.08380087],\n",
       "       [-363.46053521,  -40.66845868],\n",
       "       [ 273.63827145,  178.22700539],\n",
       "       [ -24.8657913 ,   51.0200527 ],\n",
       "       [ -96.16242189,  -18.04956112],\n",
       "       [-124.35086618,   23.02558976],\n",
       "       [  -4.73708321,   88.70351581],\n",
       "       [-395.51244871,  -21.6620018 ],\n",
       "       [-407.18080253,  -67.38031982],\n",
       "       [-191.29283443,  -42.12648962],\n",
       "       [-170.24572278,   -9.0548753 ]])"
      ]
     },
     "execution_count": 21,
     "metadata": {},
     "output_type": "execute_result"
    }
   ],
   "source": [
    "svm_kernel_linear.support_vectors_"
   ]
  },
  {
   "cell_type": "code",
   "execution_count": 22,
   "metadata": {},
   "outputs": [
    {
     "data": {
      "text/plain": [
       "<matplotlib.collections.PathCollection at 0x1f99e5b11f0>"
      ]
     },
     "execution_count": 22,
     "metadata": {},
     "output_type": "execute_result"
    },
    {
     "data": {
      "image/png": "[encoded data removed]",
      "text/plain": [
       "<Figure size 600x400 with 1 Axes>"
      ]
     },
     "metadata": {},
     "output_type": "display_data"
    }
   ],
   "source": [
    "plt.scatter(X_train.iloc[:, 0], X_train.iloc[:, 1], c = y_train, s = 25, cmap = 'winter')\n",
    "plt.scatter(svm_kernel_linear.support_vectors_[:,0], svm_kernel_linear.support_vectors_[:,1])"
   ]
  },
  {
   "cell_type": "code",
   "execution_count": 23,
   "metadata": {},
   "outputs": [
    {
     "name": "stderr",
     "output_type": "stream",
     "text": [
      "C:\\Miniconda3\\lib\\site-packages\\sklearn\\base.py:445: UserWarning: X does not have valid feature names, but SVC was fitted with feature names\n",
      "  warnings.warn(\n"
     ]
    },
    {
     "data": {
      "image/png": "[encoded data removed]",
      "text/plain": [
       "<Figure size 600x400 with 1 Axes>"
      ]
     },
     "metadata": {},
     "output_type": "display_data"
    }
   ],
   "source": [
    "ax = plt.gca()\n",
    "\n",
    "plt.scatter(X_train.iloc[:, 0], X_train.iloc[:, 1], c = y_train, s = 25, cmap = 'winter')\n",
    "xlim = ax.get_xlim()\n",
    "ylim = ax.get_ylim()\n",
    "\n",
    "xx = np.linspace(xlim[0], xlim[1], 30)\n",
    "yy = np.linspace(ylim[0], ylim[1], 30)\n",
    "\n",
    "YY, XX = np.meshgrid(yy, xx)\n",
    "\n",
    "xy = np.vstack([XX.ravel(), YY.ravel()]).T\n",
    "Z = svm_kernel_linear.decision_function(xy).reshape(XX.shape)\n",
    "\n",
    "ax.contour(XX, YY, Z, colors = 'k', levels = [-1, 0, 1], alpha = 0.5,\n",
    "           linestyles = ['--', '-', '--'])\n",
    "\n",
    "ax.scatter(svm_kernel_linear.support_vectors_[:, 0], svm_kernel_linear.support_vectors_[:, 1], s = 25,\n",
    "           linewidth = 0.5, facecolors = 'none', edgecolors = 'k')\n",
    "\n",
    "plt.show()"
   ]
  },
  {
   "cell_type": "markdown",
   "metadata": {},
   "source": [
    "## Cross Validation\n",
    "\n",
    "<p> With the following code we will explore two more categories of kernel for SVM. The goal of this cross validation is to compare the behavior and accuracy of each kernel. </p>"
   ]
  },
  {
   "cell_type": "code",
   "execution_count": 24,
   "metadata": {},
   "outputs": [
    {
     "data": {
      "text/plain": [
       "SVC(degree=2, kernel='poly')"
      ]
     },
     "execution_count": 24,
     "metadata": {},
     "output_type": "execute_result"
    }
   ],
   "source": [
    "svm_kernel_poly = SVC(kernel = 'poly', degree = 2)\n",
    "svm_kernel_poly.fit(X_train, y_train)"
   ]
  },
  {
   "cell_type": "code",
   "execution_count": 25,
   "metadata": {},
   "outputs": [
    {
     "data": {
      "text/plain": [
       "array([[-662.8705125 ,  -38.72301746],\n",
       "       [-635.06404245,  -48.234603  ],\n",
       "       [-462.96033397,  -10.9322037 ],\n",
       "       [-436.33800917,  -23.00791054],\n",
       "       [-470.29605856,    6.16013205],\n",
       "       [-411.61468871,  -24.70255182],\n",
       "       [-497.86151313,  -32.00779746],\n",
       "       [-524.76915875,  -43.28719878],\n",
       "       [-636.04625586,  -17.04360021],\n",
       "       [-484.48154138,    0.41955708],\n",
       "       [-610.88509768,   -5.74524668],\n",
       "       [-453.46583669,    9.49686433],\n",
       "       [-379.3529255 ,   26.28631291],\n",
       "       [-544.41315564,  -46.54315518],\n",
       "       [-497.86764525,  -28.82723528],\n",
       "       [-732.35055847,  -53.75486907],\n",
       "       [-430.03407981,   -5.31968509],\n",
       "       [-628.76929579,  -41.65559212],\n",
       "       [-493.64793258,    3.93097062],\n",
       "       [-442.12124953,  -16.25739917],\n",
       "       [-447.99886821,    4.47918121],\n",
       "       [-701.73134865,  -67.73170088],\n",
       "       [-745.60080797,  -56.16454295],\n",
       "       [-646.3088545 ,  -58.21306207],\n",
       "       [-670.67702698,  -43.20695936],\n",
       "       [-401.127519  ,   17.06298315],\n",
       "       [-389.69452806,   28.04872503],\n",
       "       [-486.02394292,   -1.75371131],\n",
       "       [-502.29356492,  -33.53432417],\n",
       "       [ 457.3394062 ,  117.6746039 ],\n",
       "       [-556.6167978 ,   -2.1265799 ],\n",
       "       [-744.09183482,  -54.30082747],\n",
       "       [-683.58395233,  -32.57612602],\n",
       "       [-681.58364104,  -52.40106341],\n",
       "       [-518.97729333,  -16.57342764],\n",
       "       [-415.4243105 ,    6.56958356],\n",
       "       [-616.72972072,  -27.73524532],\n",
       "       [-631.21019367,  -35.82481722],\n",
       "       [-640.723401  ,  -39.8914952 ],\n",
       "       [-538.11644171,  -21.06841632],\n",
       "       [-863.14230778,  -77.39952057],\n",
       "       [-434.23447374,  -11.63522809],\n",
       "       [-600.77454242,  -11.69161602],\n",
       "       [-436.50393933,  -32.45033449],\n",
       "       [-776.08860395,  -59.07337811],\n",
       "       [-724.662583  ,  -42.22810515],\n",
       "       [-514.67656344,    6.9270281 ],\n",
       "       [-448.9325473 ,  -23.22263269],\n",
       "       [-433.85587473,  -21.21052061],\n",
       "       [-387.25858908,   13.4995598 ],\n",
       "       [-505.32489037,  -15.81599312],\n",
       "       [-585.75513162,  -26.66118502],\n",
       "       [-416.46950684,   -2.57068803],\n",
       "       [-745.0221205 ,  -57.43169133],\n",
       "       [-783.83866779,  -56.82655599],\n",
       "       [-519.56160072,   -5.35418241],\n",
       "       [-391.36853397,    3.83376414],\n",
       "       [-603.44413524,  -47.2085163 ],\n",
       "       [-590.7192809 ,  -32.99985091],\n",
       "       [-672.5911151 ,  -40.41024655],\n",
       "       [-523.1634568 ,    0.87333282],\n",
       "       [-465.98835966,  -12.6188547 ],\n",
       "       [-490.87952918,   -8.46032004],\n",
       "       [-520.4291766 ,    1.64324958],\n",
       "       [-693.96169933,  -41.22118759],\n",
       "       [-447.24893886,  -18.88388182],\n",
       "       [-444.38041692,   26.30579365],\n",
       "       [-582.3541503 ,  -38.21530734],\n",
       "       [-502.72108277,    0.15779415],\n",
       "       [-488.80488179,  -49.73863718],\n",
       "       [-482.50022567,    3.97064839],\n",
       "       [-620.87217132,  -56.00227675],\n",
       "       [-611.09311525,  -30.54316948],\n",
       "       [-600.57413233,  -12.33147281],\n",
       "       [-425.6335122 ,    7.48960871],\n",
       "       [-562.09500153,    9.80852549],\n",
       "       [-723.56756048,  -41.16817566],\n",
       "       [-790.31324182,  -79.81649146],\n",
       "       [-496.1553892 ,   -3.0067082 ],\n",
       "       [-404.81301265,   37.42873797],\n",
       "       [-382.93115168,   22.28950211],\n",
       "       [-393.49561786,   34.15477393],\n",
       "       [-486.64859503,  -19.86139495],\n",
       "       [-555.74883975,  -58.67936161],\n",
       "       [-441.24795201,  -32.13544342],\n",
       "       [-448.98271921,  -16.14120015],\n",
       "       [-647.01643123,  -47.12542572],\n",
       "       [-617.1943848 ,  -53.22721109],\n",
       "       [-708.65236607,  -46.30996976],\n",
       "       [-473.7575375 ,  -37.67429168],\n",
       "       [-415.42810888,   -9.19541221],\n",
       "       [-713.26992243,  -48.44546089],\n",
       "       [-464.33068311,    4.0443957 ],\n",
       "       [-506.4148934 ,   -9.52717232],\n",
       "       [-615.05897705,  -56.18982384],\n",
       "       [-475.74290513,   -0.84917431],\n",
       "       [-524.42924757,  -11.80377872],\n",
       "       [-704.96703368,  -31.30124481],\n",
       "       [1010.01071375,   83.91113587],\n",
       "       [1062.20376155,   69.8321701 ],\n",
       "       [ 145.3696832 ,   32.50065098],\n",
       "       [ 509.67967264,   35.90133597],\n",
       "       [ 379.60238652,  -38.20142278],\n",
       "       [ -74.27680463, -137.54307074],\n",
       "       [-109.46470092,   -2.22926896],\n",
       "       [-128.97315587,  132.60688701],\n",
       "       [ 995.79388896,   39.15674324],\n",
       "       [ 634.87976852,  -79.93167625],\n",
       "       [ 617.24296724,  -54.54308163],\n",
       "       [ 606.82432656,  191.92337036],\n",
       "       [ 132.41975072,  -95.37957053],\n",
       "       [-127.99476078,  -30.68749823],\n",
       "       [ -53.10555283,   17.59638693],\n",
       "       [ 332.77568763,  -20.21902649],\n",
       "       [ 973.8915506 ,  -24.58846667],\n",
       "       [ 206.70012261,   50.76272082],\n",
       "       [ 453.67808881,   77.39995468],\n",
       "       [ 539.39908938,   70.83058341],\n",
       "       [ 525.7068878 ,   73.27576144],\n",
       "       [ 304.68781806,  -17.72505984],\n",
       "       [ 424.36112828, -109.22029973],\n",
       "       [ 171.32541161,   98.38313932],\n",
       "       [ 832.60977339,  -19.68378896],\n",
       "       [ 433.7297747 ,   56.66964782],\n",
       "       [ 589.79683228,  -46.66243309],\n",
       "       [ 641.49792575,  219.95620029],\n",
       "       [ 842.41444956, -122.19219673],\n",
       "       [-211.59125901,  -79.87744626],\n",
       "       [ 373.71988149, -135.33476275],\n",
       "       [-238.29286318,  -65.38650692],\n",
       "       [ 710.4537911 ,    4.61169902],\n",
       "       [ 551.65602198,  -24.06430799],\n",
       "       [ 828.5811985 , -180.6678687 ],\n",
       "       [ 803.71611161, -162.09869022],\n",
       "       [ 790.62139155,  111.27201099],\n",
       "       [-143.99456732,   57.60467871],\n",
       "       [ 178.68853567,  100.33921826],\n",
       "       [ 947.87321921,    2.6675468 ],\n",
       "       [ 576.2095876 ,   45.16639618],\n",
       "       [1062.17158556,  -50.24014888],\n",
       "       [ 402.21786983,  -93.71470143],\n",
       "       [ 946.29594646,   81.05050906],\n",
       "       [ 997.05147183,  141.21596999],\n",
       "       [ 363.60715842,  -76.68936918],\n",
       "       [ 461.21781217,   67.93643511],\n",
       "       [ 457.68725889, -171.3428402 ],\n",
       "       [ -95.55636165,  -25.01734283],\n",
       "       [-184.70736263,  -33.08065885],\n",
       "       [ 719.90638011,  149.65220844],\n",
       "       [ 811.39000453,  -77.4173801 ],\n",
       "       [ -81.93358585,   -1.78031024],\n",
       "       [  84.93189008,   71.36345367],\n",
       "       [ 648.81111837,   -9.67822499],\n",
       "       [1083.92974896,  105.6597623 ],\n",
       "       [  56.00468283,  -29.14834858],\n",
       "       [-151.62188773,    2.88015225],\n",
       "       [ 554.79305973,   66.04534444],\n",
       "       [ 412.94292285,   42.59297969],\n",
       "       [  77.34963631,   28.79057905],\n",
       "       [-187.83080167,  -94.08380087],\n",
       "       [-363.46053521,  -40.66845868],\n",
       "       [ 273.63827145,  178.22700539],\n",
       "       [ 939.39972079,  285.85296421],\n",
       "       [ -24.8657913 ,   51.0200527 ],\n",
       "       [ 826.13212707,   -8.92460368],\n",
       "       [ 826.21114206, -322.90151642],\n",
       "       [ 404.38593422,  -67.07954492],\n",
       "       [1102.17709295,   78.98759047],\n",
       "       [ 857.39018111,   14.62934678],\n",
       "       [ 232.61571898,  -16.60882385],\n",
       "       [ 980.52146912,   85.49752424],\n",
       "       [ -96.16242189,  -18.04956112],\n",
       "       [ 807.56457329,    4.27138034],\n",
       "       [-124.35086618,   23.02558976],\n",
       "       [ 233.81932739,   20.25570746],\n",
       "       [ 854.61379884,  -25.18453065],\n",
       "       [  -4.73708321,   88.70351581],\n",
       "       [-395.51244871,  -21.6620018 ],\n",
       "       [ 821.58972806,  198.67610183],\n",
       "       [  64.40838621,  -48.46995593],\n",
       "       [ 845.94714163,  119.0009968 ],\n",
       "       [ -70.65063466,  -54.09744156],\n",
       "       [ 410.04975592,    2.8641319 ],\n",
       "       [ 150.75303731,  -31.26636052],\n",
       "       [-407.18080253,  -67.38031982],\n",
       "       [ -15.09702531,  -75.33594625],\n",
       "       [ 815.32415905,   72.15386434],\n",
       "       [ 124.67005379,   -3.63417922],\n",
       "       [ 946.86585793,  120.5741511 ],\n",
       "       [-191.29283443,  -42.12648962],\n",
       "       [ 731.36719667,   22.00025615],\n",
       "       [ 488.37622844,   24.94406606],\n",
       "       [  50.48770751, -135.39552776],\n",
       "       [ -34.37520146, -107.6727615 ],\n",
       "       [-170.24572278,   -9.0548753 ],\n",
       "       [ 314.50175618,   47.55352518]])"
      ]
     },
     "execution_count": 25,
     "metadata": {},
     "output_type": "execute_result"
    }
   ],
   "source": [
    "svm_kernel_poly.support_vectors_"
   ]
  },
  {
   "cell_type": "code",
   "execution_count": 26,
   "metadata": {},
   "outputs": [
    {
     "data": {
      "text/plain": [
       "<matplotlib.collections.PathCollection at 0x1f99e60ccd0>"
      ]
     },
     "execution_count": 26,
     "metadata": {},
     "output_type": "execute_result"
    },
    {
     "data": {
      "image/png": "[encoded data removed]",
      "text/plain": [
       "<Figure size 600x400 with 1 Axes>"
      ]
     },
     "metadata": {},
     "output_type": "display_data"
    }
   ],
   "source": [
    "plt.scatter(X_train.iloc[:, 0], X_train.iloc[:, 1], c = y_train, s = 25, cmap = 'winter')\n",
    "plt.scatter(svm_kernel_poly.support_vectors_[:,0], svm_kernel_poly.support_vectors_[:,1])"
   ]
  },
  {
   "cell_type": "code",
   "execution_count": 27,
   "metadata": {},
   "outputs": [
    {
     "name": "stderr",
     "output_type": "stream",
     "text": [
      "C:\\Miniconda3\\lib\\site-packages\\sklearn\\base.py:445: UserWarning: X does not have valid feature names, but SVC was fitted with feature names\n",
      "  warnings.warn(\n"
     ]
    },
    {
     "data": {
      "image/png": "[encoded data removed]",
      "text/plain": [
       "<Figure size 600x400 with 1 Axes>"
      ]
     },
     "metadata": {},
     "output_type": "display_data"
    }
   ],
   "source": [
    "ax = plt.gca()\n",
    "\n",
    "plt.scatter(X_train.iloc[:, 0], X_train.iloc[:, 1], c = y_train, s = 25, cmap = 'winter')\n",
    "xlim = ax.get_xlim()\n",
    "ylim = ax.get_ylim()\n",
    "\n",
    "xx = np.linspace(xlim[0], xlim[1], 30)\n",
    "yy = np.linspace(ylim[0], ylim[1], 30)\n",
    "\n",
    "YY, XX = np.meshgrid(yy, xx)\n",
    "\n",
    "xy = np.vstack([XX.ravel(), YY.ravel()]).T\n",
    "Z = svm_kernel_poly.decision_function(xy).reshape(XX.shape)\n",
    "\n",
    "ax.contour(XX, YY, Z, colors = 'k', levels = [-1, 0, 1], alpha = 0.5,\n",
    "           linestyles = ['--', '-', '--'])\n",
    "\n",
    "ax.scatter(svm_kernel_poly.support_vectors_[:, 0], svm_kernel_poly.support_vectors_[:, 1], s = 25,\n",
    "           linewidth = 0.5, facecolors = 'none', edgecolors = 'k')\n",
    "\n",
    "plt.show()"
   ]
  },
  {
   "cell_type": "code",
   "execution_count": 28,
   "metadata": {},
   "outputs": [
    {
     "data": {
      "text/plain": [
       "SVC()"
      ]
     },
     "execution_count": 28,
     "metadata": {},
     "output_type": "execute_result"
    }
   ],
   "source": [
    "svm_kernel_rbf = SVC(kernel = 'rbf')\n",
    "svm_kernel_rbf.fit(X_train, y_train)"
   ]
  },
  {
   "cell_type": "code",
   "execution_count": 29,
   "metadata": {},
   "outputs": [
    {
     "data": {
      "text/plain": [
       "array([[ -46.99959732,   63.13510947],\n",
       "       [ 247.07096244,  114.29591563],\n",
       "       [ -24.21458045,   80.77795296],\n",
       "       [ -37.62907412,   35.23655914],\n",
       "       [-167.74712776,   23.65573256],\n",
       "       [ -96.55625225,  -62.35469643],\n",
       "       [ -59.15737337,   38.71074425],\n",
       "       [-146.89051433,   20.388089  ],\n",
       "       [-192.43066999,   -5.30836619],\n",
       "       [-168.3438669 ,   36.4380669 ],\n",
       "       [ 457.3394062 ,  117.6746039 ],\n",
       "       [ -63.49267252,   -4.07985883],\n",
       "       [ -39.66207192,   39.81482204],\n",
       "       [-164.87330188,    2.68254509],\n",
       "       [-863.14230778,  -77.39952057],\n",
       "       [-191.6210454 ,   12.25917767],\n",
       "       [ -29.53065115,   29.22975275],\n",
       "       [ -12.78138356,   -7.5951997 ],\n",
       "       [ -90.54705821,   84.70293714],\n",
       "       [-105.46867535,   46.56100983],\n",
       "       [-183.9281351 ,  -19.40288898],\n",
       "       [ -66.79162715,   37.83677258],\n",
       "       [  91.16660918,   69.69070588],\n",
       "       [-132.65799495,   35.09663399],\n",
       "       [-260.05262511,  -31.3150416 ],\n",
       "       [ -58.89248165,   71.76859982],\n",
       "       [-263.62343577,  -42.76855265],\n",
       "       [ -90.24696965,   78.61442512],\n",
       "       [-123.52459558,   58.30163904],\n",
       "       [-134.10339183,  -12.27880202],\n",
       "       [ -41.02131852,   30.10846555],\n",
       "       [ -61.94248441,   46.67275028],\n",
       "       [-169.62935507,   20.52307708],\n",
       "       [-790.31324182,  -79.81649146],\n",
       "       [-189.06448919,   21.17127582],\n",
       "       [  80.26989192,   33.45177335],\n",
       "       [-116.0862348 ,   33.93519067],\n",
       "       [ 204.75700585,   90.21172539],\n",
       "       [-200.88095263,    7.0454306 ],\n",
       "       [  38.13055425,   14.01479642],\n",
       "       [ -34.32414152,   43.65001698],\n",
       "       [ 145.3696832 ,   32.50065098],\n",
       "       [ -74.27680463, -137.54307074],\n",
       "       [-109.46470092,   -2.22926896],\n",
       "       [-128.97315587,  132.60688701],\n",
       "       [ 132.41975072,  -95.37957053],\n",
       "       [-127.99476078,  -30.68749823],\n",
       "       [ -53.10555283,   17.59638693],\n",
       "       [ 206.70012261,   50.76272082],\n",
       "       [ 171.32541161,   98.38313932],\n",
       "       [-211.59125901,  -79.87744626],\n",
       "       [1615.09345259, -270.33335106],\n",
       "       [3867.17805308, -171.01743974],\n",
       "       [-238.29286318,  -65.38650692],\n",
       "       [-143.99456732,   57.60467871],\n",
       "       [ 178.68853567,  100.33921826],\n",
       "       [ -95.55636165,  -25.01734283],\n",
       "       [-184.70736263,  -33.08065885],\n",
       "       [ -81.93358585,   -1.78031024],\n",
       "       [  84.93189008,   71.36345367],\n",
       "       [2366.70070761,  739.62091801],\n",
       "       [  56.00468283,  -29.14834858],\n",
       "       [1604.79840481,  328.66757001],\n",
       "       [-151.62188773,    2.88015225],\n",
       "       [  77.34963631,   28.79057905],\n",
       "       [-187.83080167,  -94.08380087],\n",
       "       [2404.94229011, -412.30914261],\n",
       "       [-363.46053521,  -40.66845868],\n",
       "       [ 273.63827145,  178.22700539],\n",
       "       [ -24.8657913 ,   51.0200527 ],\n",
       "       [ -96.16242189,  -18.04956112],\n",
       "       [-124.35086618,   23.02558976],\n",
       "       [ 233.81932739,   20.25570746],\n",
       "       [  -4.73708321,   88.70351581],\n",
       "       [-395.51244871,  -21.6620018 ],\n",
       "       [  64.40838621,  -48.46995593],\n",
       "       [2721.00090146,  -62.73629346],\n",
       "       [ -70.65063466,  -54.09744156],\n",
       "       [ 150.75303731,  -31.26636052],\n",
       "       [-407.18080253,  -67.38031982],\n",
       "       [ -15.09702531,  -75.33594625],\n",
       "       [ 124.67005379,   -3.63417922],\n",
       "       [-191.29283443,  -42.12648962],\n",
       "       [  50.48770751, -135.39552776],\n",
       "       [ -34.37520146, -107.6727615 ],\n",
       "       [-170.24572278,   -9.0548753 ]])"
      ]
     },
     "execution_count": 29,
     "metadata": {},
     "output_type": "execute_result"
    }
   ],
   "source": [
    "svm_kernel_rbf.support_vectors_"
   ]
  },
  {
   "cell_type": "code",
   "execution_count": 30,
   "metadata": {},
   "outputs": [
    {
     "data": {
      "text/plain": [
       "<matplotlib.collections.PathCollection at 0x1f99f81bd90>"
      ]
     },
     "execution_count": 30,
     "metadata": {},
     "output_type": "execute_result"
    },
    {
     "data": {
      "image/png": "[encoded data removed]",
      "text/plain": [
       "<Figure size 600x400 with 1 Axes>"
      ]
     },
     "metadata": {},
     "output_type": "display_data"
    }
   ],
   "source": [
    "plt.scatter(X_train.iloc[:, 0], X_train.iloc[:, 1], c = y_train, s = 25, cmap = 'winter')\n",
    "plt.scatter(svm_kernel_rbf.support_vectors_[:,0], svm_kernel_rbf.support_vectors_[:,1])"
   ]
  },
  {
   "cell_type": "code",
   "execution_count": 31,
   "metadata": {},
   "outputs": [
    {
     "name": "stderr",
     "output_type": "stream",
     "text": [
      "C:\\Miniconda3\\lib\\site-packages\\sklearn\\base.py:445: UserWarning: X does not have valid feature names, but SVC was fitted with feature names\n",
      "  warnings.warn(\n"
     ]
    },
    {
     "data": {
      "image/png": "[encoded data removed]",
      "text/plain": [
       "<Figure size 600x400 with 1 Axes>"
      ]
     },
     "metadata": {},
     "output_type": "display_data"
    }
   ],
   "source": [
    "ax = plt.gca()\n",
    "\n",
    "plt.scatter(X_train.iloc[:, 0], X_train.iloc[:, 1], c = y_train, s = 25, cmap = 'winter')\n",
    "xlim = ax.get_xlim()\n",
    "ylim = ax.get_ylim()\n",
    "\n",
    "xx = np.linspace(xlim[0], xlim[1], 30)\n",
    "yy = np.linspace(ylim[0], ylim[1], 30)\n",
    "\n",
    "YY, XX = np.meshgrid(yy, xx)\n",
    "\n",
    "xy = np.vstack([XX.ravel(), YY.ravel()]).T\n",
    "Z = svm_kernel_rbf.decision_function(xy).reshape(XX.shape)\n",
    "\n",
    "ax.contour(XX, YY, Z, colors = 'k', levels = [-1, 0, 1], alpha = 0.5,\n",
    "           linestyles = ['--', '-', '--'])\n",
    "\n",
    "ax.scatter(svm_kernel_rbf.support_vectors_[:, 0], svm_kernel_rbf.support_vectors_[:, 1], s = 25,\n",
    "           linewidth = 0.5, facecolors = 'none', edgecolors = 'k')\n",
    "\n",
    "plt.show()"
   ]
  },
  {
   "cell_type": "markdown",
   "metadata": {},
   "source": [
    "## Accuracy and Model Selection"
   ]
  },
  {
   "cell_type": "code",
   "execution_count": 32,
   "metadata": {},
   "outputs": [],
   "source": [
    "acc_model_1_train = svm_kernel_linear.predict(X_train)\n",
    "acc_model_1_validation = svm_kernel_linear.predict(X_validation)\n",
    "\n",
    "acc_model_2_train = svm_kernel_poly.predict(X_train)\n",
    "acc_model_2_validation = svm_kernel_poly.predict(X_validation)\n",
    "\n",
    "acc_model_3_train = svm_kernel_rbf.predict(X_train)\n",
    "acc_model_3_validation = svm_kernel_rbf.predict(X_validation)"
   ]
  },
  {
   "cell_type": "code",
   "execution_count": 33,
   "metadata": {},
   "outputs": [
    {
     "name": "stdout",
     "output_type": "stream",
     "text": [
      "SVM Model - Linear Kernel accuracy score rate: 0.9266862170087976 - 0.9736842105263158\n"
     ]
    }
   ],
   "source": [
    "print('SVM Model - Linear Kernel accuracy score rate: {} - {}'.format((accuracy_score(acc_model_1_train, y_train)), (accuracy_score(acc_model_1_validation, y_validation))))"
   ]
  },
  {
   "cell_type": "code",
   "execution_count": 34,
   "metadata": {},
   "outputs": [
    {
     "name": "stdout",
     "output_type": "stream",
     "text": [
      "SVM Model - polynomial Kernel accuracy score rate: 0.7741935483870968 - 0.7631578947368421\n"
     ]
    }
   ],
   "source": [
    "print('SVM Model - polynomial Kernel accuracy score rate: {} - {}'.format((accuracy_score(acc_model_2_train, y_train)), (accuracy_score(acc_model_2_validation, y_validation))))"
   ]
  },
  {
   "cell_type": "code",
   "execution_count": 35,
   "metadata": {},
   "outputs": [
    {
     "name": "stdout",
     "output_type": "stream",
     "text": [
      "SVM Model - RBF Kernel accuracy score rate: 0.9149560117302052 - 0.9298245614035088\n"
     ]
    }
   ],
   "source": [
    "print('SVM Model - RBF Kernel accuracy score rate: {} - {}'.format((accuracy_score(acc_model_3_train, y_train)), (accuracy_score(acc_model_3_validation, y_validation))))"
   ]
  },
  {
   "cell_type": "code",
   "execution_count": 36,
   "metadata": {},
   "outputs": [
    {
     "name": "stdout",
     "output_type": "stream",
     "text": [
      "SVM Model - Linear Kernel accuracy score: 0.8947368421052632\n",
      "SVM Model - Polynomial Kernel accuracy score: 0.7280701754385965\n",
      "SVM Model - RBF Kernel accuracy score: 0.9210526315789473\n"
     ]
    }
   ],
   "source": [
    "svm_linear_test = svm_kernel_linear.predict(X_test)\n",
    "svm_poly_test = svm_kernel_poly.predict(X_test)\n",
    "svm_rbf_test = svm_kernel_rbf.predict(X_test)\n",
    "\n",
    "print('SVM Model - Linear Kernel accuracy score: {}'.format((accuracy_score(svm_linear_test, y_test))))\n",
    "print('SVM Model - Polynomial Kernel accuracy score: {}'.format((accuracy_score(svm_poly_test, y_test))))\n",
    "print('SVM Model - RBF Kernel accuracy score: {}'.format((accuracy_score(svm_rbf_test, y_test))))"
   ]
  },
  {
   "cell_type": "markdown",
   "metadata": {},
   "source": [
    "## Conclusion\n",
    "\n",
    "<p> After performing the evaluation for both training and validation sets with the SVM model under different kernels, we could observe that the score rate for a linear Kernel appeared to be the best choice for selection. However, when evaluating the models with test sets under SVM model, we can observe the RBF Kernel keeps the performance between its training and validation accuracy score rate. On the contrary, the Linear Kernel SVM model, outputs a lower rate than expected. We may then select our SVM model with an RBF Kernel. </p>"
   ]
  }
 ],
 "metadata": {
  "kernelspec": {
   "display_name": "Python 3",
   "language": "python",
   "name": "python3"
  },
  "language_info": {
   "codemirror_mode": {
    "name": "ipython",
    "version": 3
   },
   "file_extension": ".py",
   "mimetype": "text/x-python",
   "name": "python",
   "nbconvert_exporter": "python",
   "pygments_lexer": "ipython3",
   "version": "3.8.5"
  }
 },
 "nbformat": 4,
 "nbformat_minor": 4
}
